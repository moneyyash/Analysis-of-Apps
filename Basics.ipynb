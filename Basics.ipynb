{
 "cells": [
  {
   "cell_type": "markdown",
   "metadata": {},
   "source": [
    "# Analysis of Android and iOS Apps"
   ]
  },
  {
   "cell_type": "markdown",
   "metadata": {},
   "source": [
    "## Introduction\n",
    "Project is about data analysis of android and iOS apps . With the help of result we found in analysis we make the apps of those type which attract more users."
   ]
  },
  {
   "cell_type": "code",
   "execution_count": 3,
   "metadata": {
    "collapsed": false
   },
   "outputs": [],
   "source": [
    "from csv import reader\n",
    "opened_file1=open(\"AppleStore.csv\")\n",
    "opened_file2=open(\"googleplaystore.csv\")\n",
    "read_file1=reader(opened_file1)\n",
    "read_file2=reader(opened_file2)\n",
    "apple=list(read_file1)\n",
    "android=list(read_file2)\n",
    "\n"
   ]
  },
  {
   "cell_type": "code",
   "execution_count": 4,
   "metadata": {
    "collapsed": false
   },
   "outputs": [
    {
     "name": "stdout",
     "output_type": "stream",
     "text": [
      "['id', 'track_name', 'size_bytes', 'currency', 'price', 'rating_count_tot', 'rating_count_ver', 'user_rating', 'user_rating_ver', 'ver', 'cont_rating', 'prime_genre', 'sup_devices.num', 'ipadSc_urls.num', 'lang.num', 'vpp_lic']\n",
      "\n",
      "\n",
      "['284882215', 'Facebook', '389879808', 'USD', '0.0', '2974676', '212', '3.5', '3.5', '95.0', '4+', 'Social Networking', '37', '1', '29', '1']\n",
      "\n",
      "\n",
      "['389801252', 'Instagram', '113954816', 'USD', '0.0', '2161558', '1289', '4.5', '4.0', '10.23', '12+', 'Photo & Video', '37', '0', '29', '1']\n",
      "\n",
      "\n",
      "['529479190', 'Clash of Clans', '116476928', 'USD', '0.0', '2130805', '579', '4.5', '4.5', '9.24.12', '9+', 'Games', '38', '5', '18', '1']\n",
      "\n",
      "\n",
      "No. of rows: 7198\n",
      "No. of columns: 16\n",
      "\n",
      "\n",
      "['App', 'Category', 'Rating', 'Reviews', 'Size', 'Installs', 'Type', 'Price', 'Content Rating', 'Genres', 'Last Updated', 'Current Ver', 'Android Ver']\n",
      "\n",
      "\n",
      "['Photo Editor & Candy Camera & Grid & ScrapBook', 'ART_AND_DESIGN', '4.1', '159', '19M', '10,000+', 'Free', '0', 'Everyone', 'Art & Design', 'January 7, 2018', '1.0.0', '4.0.3 and up']\n",
      "\n",
      "\n",
      "['Coloring book moana', 'ART_AND_DESIGN', '3.9', '967', '14M', '500,000+', 'Free', '0', 'Everyone', 'Art & Design;Pretend Play', 'January 15, 2018', '2.0.0', '4.0.3 and up']\n",
      "\n",
      "\n",
      "['U Launcher Lite – FREE Live Cool Themes, Hide Apps', 'ART_AND_DESIGN', '4.7', '87510', '8.7M', '5,000,000+', 'Free', '0', 'Everyone', 'Art & Design', 'August 1, 2018', '1.2.4', '4.0.3 and up']\n",
      "\n",
      "\n"
     ]
    }
   ],
   "source": [
    "def explore_data(dataset, start, end, rows_and_columns=False):\n",
    "    dataset_slice=dataset[start:end]\n",
    "    for i in dataset_slice:\n",
    "        print(i)\n",
    "        print(\"\\n\")\n",
    "    if rows_and_columns:\n",
    "        print(\"No. of rows: {}\".format(len(dataset)))\n",
    "        print(\"No. of columns: {}\".format(len(dataset[0])))\n",
    "    \n",
    "    \n",
    "    \n",
    "explore_data(apple,0,4,True)\n",
    "print(\"\\n\")\n",
    "explore_data(android,0,4)"
   ]
  },
  {
   "cell_type": "code",
   "execution_count": 5,
   "metadata": {
    "collapsed": false
   },
   "outputs": [
    {
     "name": "stdout",
     "output_type": "stream",
     "text": [
      "10842\n",
      "10841\n"
     ]
    }
   ],
   "source": [
    "android_header=android[0]\n",
    "print(len(android))\n",
    "del android[10472]\n",
    "print(len(android))        "
   ]
  },
  {
   "cell_type": "code",
   "execution_count": 6,
   "metadata": {
    "collapsed": false
   },
   "outputs": [
    {
     "name": "stdout",
     "output_type": "stream",
     "text": [
      "['Instagram', 'SOCIAL', '4.5', '66577313', 'Varies with device', '1,000,000,000+', 'Free', '0', 'Teen', 'Social', 'July 31, 2018', 'Varies with device', 'Varies with device']\n",
      "['Instagram', 'SOCIAL', '4.5', '66577446', 'Varies with device', '1,000,000,000+', 'Free', '0', 'Teen', 'Social', 'July 31, 2018', 'Varies with device', 'Varies with device']\n",
      "['Instagram', 'SOCIAL', '4.5', '66577313', 'Varies with device', '1,000,000,000+', 'Free', '0', 'Teen', 'Social', 'July 31, 2018', 'Varies with device', 'Varies with device']\n",
      "['Instagram', 'SOCIAL', '4.5', '66509917', 'Varies with device', '1,000,000,000+', 'Free', '0', 'Teen', 'Social', 'July 31, 2018', 'Varies with device', 'Varies with device']\n"
     ]
    }
   ],
   "source": [
    "for app in android:\n",
    "    name=app[0]\n",
    "    if name==\"Instagram\":\n",
    "        print(app)"
   ]
  },
  {
   "cell_type": "code",
   "execution_count": 7,
   "metadata": {
    "collapsed": false,
    "scrolled": true
   },
   "outputs": [
    {
     "name": "stdout",
     "output_type": "stream",
     "text": [
      "No. of duplicate rows: 1181\n",
      "\n",
      "\n",
      "['Coloring book moana', 'U Launcher Lite – FREE Live Cool Themes, Hide Apps', 'Sketch - Draw & Paint', 'Pixel Draw - Number Art Coloring Book', 'Paper flowers instructions', 'Smoke Effect Photo Maker - Smoke Editor', 'Infinite Painter', 'Garden Coloring Book', 'Kids Paint Free - Drawing Fun', 'Text on Photo - Fonteee', 'Name Art Photo Editor - Focus n Filters', 'Tattoo Name On My Photo Editor', 'Mandala Coloring Book', '3D Color Pixel by Number - Sandbox Art Coloring']\n"
     ]
    }
   ],
   "source": [
    "unique_android=[]\n",
    "duplicate_android=[]\n",
    "for app in android[1:]:\n",
    "    name=app[0]\n",
    "    if name in unique_android:\n",
    "        duplicate_android.append(name)\n",
    "    else:\n",
    "        unique_android.append(name)\n",
    "print(\"No. of duplicate rows: {}\".format(len(duplicate_android)))\n",
    "print(\"\\n\")\n",
    "print(unique_android[1:15])"
   ]
  },
  {
   "cell_type": "code",
   "execution_count": 8,
   "metadata": {
    "collapsed": false
   },
   "outputs": [
    {
     "name": "stdout",
     "output_type": "stream",
     "text": [
      "9658\n",
      "9658\n",
      "9658\n"
     ]
    }
   ],
   "source": [
    "reviews_max={}\n",
    "del android[10472]\n",
    "for app in android[1:]:\n",
    "    name=app[0]\n",
    "    n_reviews=float(app[3])\n",
    "    if name in reviews_max and (reviews_max[name]<n_reviews):\n",
    "        reviews_max[name]=n_reviews\n",
    "    else:\n",
    "        reviews_max[name]=n_reviews\n",
    "print(len(reviews_max))\n",
    "print(len(android[1:])-1181)\n",
    "print(len(reviews_max))"
   ]
  },
  {
   "cell_type": "code",
   "execution_count": 9,
   "metadata": {
    "collapsed": false
   },
   "outputs": [
    {
     "name": "stdout",
     "output_type": "stream",
     "text": [
      "9658\n"
     ]
    }
   ],
   "source": [
    "android_clean=[]\n",
    "already_added=[]\n",
    "for app in android[1:]:\n",
    "    name=app[0]\n",
    "    n_reviews=float(app[3])\n",
    "    if n_reviews==reviews_max[name] and name not in already_added:\n",
    "            android_clean.append(app)\n",
    "            already_added.append(name)\n",
    "print(len(android_clean))"
   ]
  },
  {
   "cell_type": "code",
   "execution_count": 10,
   "metadata": {
    "collapsed": false
   },
   "outputs": [
    {
     "name": "stdout",
     "output_type": "stream",
     "text": [
      "['Photo Editor & Candy Camera & Grid & ScrapBook', 'ART_AND_DESIGN', '4.1', '159', '19M', '10,000+', 'Free', '0', 'Everyone', 'Art & Design', 'January 7, 2018', '1.0.0', '4.0.3 and up']\n",
      "\n",
      "\n",
      "['U Launcher Lite – FREE Live Cool Themes, Hide Apps', 'ART_AND_DESIGN', '4.7', '87510', '8.7M', '5,000,000+', 'Free', '0', 'Everyone', 'Art & Design', 'August 1, 2018', '1.2.4', '4.0.3 and up']\n",
      "\n",
      "\n",
      "['Sketch - Draw & Paint', 'ART_AND_DESIGN', '4.5', '215644', '25M', '50,000,000+', 'Free', '0', 'Teen', 'Art & Design', 'June 8, 2018', 'Varies with device', '4.2 and up']\n",
      "\n",
      "\n",
      "['Pixel Draw - Number Art Coloring Book', 'ART_AND_DESIGN', '4.3', '967', '2.8M', '100,000+', 'Free', '0', 'Everyone', 'Art & Design;Creativity', 'June 20, 2018', '1.1', '4.4 and up']\n",
      "\n",
      "\n",
      "No. of rows: 9613\n",
      "No. of columns: 13\n",
      "['284882215', 'Facebook', '389879808', 'USD', '0.0', '2974676', '212', '3.5', '3.5', '95.0', '4+', 'Social Networking', '37', '1', '29', '1']\n",
      "\n",
      "\n",
      "['389801252', 'Instagram', '113954816', 'USD', '0.0', '2161558', '1289', '4.5', '4.0', '10.23', '12+', 'Photo & Video', '37', '0', '29', '1']\n",
      "\n",
      "\n",
      "['529479190', 'Clash of Clans', '116476928', 'USD', '0.0', '2130805', '579', '4.5', '4.5', '9.24.12', '9+', 'Games', '38', '5', '18', '1']\n",
      "\n",
      "\n",
      "['420009108', 'Temple Run', '65921024', 'USD', '0.0', '1724546', '3842', '4.5', '4.0', '1.6.2', '9+', 'Games', '40', '5', '1', '1']\n",
      "\n",
      "\n",
      "No. of rows: 6183\n",
      "No. of columns: 16\n"
     ]
    }
   ],
   "source": [
    "def check_english(string):\n",
    "    count=0\n",
    "    for i in string:\n",
    "        if ord(i)>127:\n",
    "            count+=1\n",
    "    if count>3:\n",
    "        return False\n",
    "    else:\n",
    "        return True\n",
    "\n",
    "english_android=[]\n",
    "english_apple=[]\n",
    "for app in android_clean:\n",
    "    name=app[0]\n",
    "    if check_english(name):\n",
    "        english_android.append(app)\n",
    "\n",
    "for app in apple[1:]:\n",
    "    name=app[1]\n",
    "    if check_english(name):\n",
    "        english_apple.append(app)  \n",
    "\n",
    "explore_data(english_android,0,4,True)\n",
    "explore_data(english_apple,0,4,True)"
   ]
  },
  {
   "cell_type": "code",
   "execution_count": 11,
   "metadata": {
    "collapsed": false
   },
   "outputs": [
    {
     "name": "stdout",
     "output_type": "stream",
     "text": [
      "8863\n",
      "3222\n"
     ]
    }
   ],
   "source": [
    "free_android=[]\n",
    "free_apple=[]\n",
    "\n",
    "for app in english_android:\n",
    "    price=app[7]\n",
    "    if price=='0':\n",
    "        free_android.append(app)\n",
    "for app in english_apple:\n",
    "    price=app[4]\n",
    "    if price=='0.0':\n",
    "        free_apple.append(app)\n",
    "\n",
    "print(len(free_android))\n",
    "print(len(free_apple))"
   ]
  },
  {
   "cell_type": "code",
   "execution_count": 12,
   "metadata": {
    "collapsed": false
   },
   "outputs": [
    {
     "name": "stdout",
     "output_type": "stream",
     "text": [
      "FAMILY : 19.225995712512695\n",
      "GAME : 9.511452104253639\n",
      "TOOLS : 8.462146000225657\n",
      "BUSINESS : 4.580841701455489\n",
      "LIFESTYLE : 3.9038700214374367\n",
      "PRODUCTIVITY : 3.8925871601038025\n",
      "FINANCE : 3.7007785174320205\n",
      "MEDICAL : 3.542818458761142\n",
      "SPORTS : 3.4187069840911652\n",
      "PERSONALIZATION : 3.3058783707548236\n",
      "COMMUNICATION : 3.2494640640866526\n",
      "HEALTH_AND_FITNESS : 3.068938282748505\n",
      "PHOTOGRAPHY : 2.944826808078529\n",
      "NEWS_AND_MAGAZINES : 2.798149610741284\n",
      "SOCIAL : 2.6627552747376737\n",
      "TRAVEL_AND_LOCAL : 2.335552296062281\n",
      "SHOPPING : 2.245289405393208\n",
      "BOOKS_AND_REFERENCE : 2.1437436533904997\n",
      "DATING : 1.8616721200496444\n",
      "VIDEO_PLAYERS : 1.7826920907142052\n",
      "MAPS_AND_NAVIGATION : 1.399074805370642\n",
      "FOOD_AND_DRINK : 1.241114746699763\n",
      "EDUCATION : 1.128286133363421\n",
      "LIBRARIES_AND_DEMO : 0.9364774906916393\n",
      "AUTO_AND_VEHICLES : 0.9251946293580051\n",
      "ENTERTAINMENT : 0.8800631840234684\n",
      "HOUSE_AND_HOME : 0.8236488773552973\n",
      "WEATHER : 0.8010831546880289\n",
      "EVENTS : 0.7108202640189552\n",
      "PARENTING : 0.6544059573507841\n",
      "ART_AND_DESIGN : 0.6431230960171499\n",
      "COMICS : 0.6205573733498815\n",
      "BEAUTY : 0.5979916506826132\n",
      "\n",
      "\n",
      "Games : 58.16263190564867\n",
      "Entertainment : 7.883302296710118\n",
      "Photo & Video : 4.9658597144630665\n",
      "Education : 3.662321539416512\n",
      "Social Networking : 3.2898820608317814\n",
      "Shopping : 2.60707635009311\n",
      "Utilities : 2.5139664804469275\n",
      "Sports : 2.1415270018621975\n",
      "Music : 2.0484171322160147\n",
      "Health & Fitness : 2.0173805090006205\n",
      "Productivity : 1.7380509000620732\n",
      "Lifestyle : 1.5828677839851024\n",
      "News : 1.3345747982619491\n",
      "Travel : 1.2414649286157666\n",
      "Finance : 1.1173184357541899\n",
      "Weather : 0.8690254500310366\n",
      "Food & Drink : 0.8069522036002483\n",
      "Reference : 0.5586592178770949\n",
      "Business : 0.5276225946617008\n",
      "Book : 0.4345127250155183\n",
      "Navigation : 0.186219739292365\n",
      "Medical : 0.186219739292365\n",
      "Catalogs : 0.12414649286157665\n"
     ]
    }
   ],
   "source": [
    "def freq_table(dataset,index):\n",
    "    genre={}\n",
    "    total=0\n",
    "    for row in dataset:\n",
    "        total+=1\n",
    "        value=row[index]\n",
    "        if value in genre:\n",
    "            genre[value]+=1\n",
    "        else:\n",
    "            genre[value]=1\n",
    "    genre_per={}\n",
    "    for app in genre:\n",
    "        per=(genre[app] / total)*100\n",
    "        genre_per[app]=per\n",
    "    return genre_per\n",
    "\n",
    "\n",
    "def display_table(dataset, index):\n",
    "    table = freq_table(dataset, index)\n",
    "    table_display = []\n",
    "    for key in table:\n",
    "        key_val_as_tuple = (table[key], key)\n",
    "        table_display.append(key_val_as_tuple)\n",
    "\n",
    "    table_sorted = sorted(table_display, reverse = True)\n",
    "    for entry in table_sorted:\n",
    "        print(entry[1], ':', entry[0])\n",
    "\n",
    "display_table(free_android,1)\n",
    "print(\"\\n\")\n",
    "display_table(free_apple,-5)"
   ]
  },
  {
   "cell_type": "markdown",
   "metadata": {},
   "source": [
    "The most genre in iOS is Gaming and runner-up is Entertainment.\n",
    "General impression is most of the apps genres is gaming.\n",
    "\n",
    "The most common genre in Play Store is Family followed by games and tools"
   ]
  },
  {
   "cell_type": "code",
   "execution_count": 23,
   "metadata": {
    "collapsed": false
   },
   "outputs": [
    {
     "name": "stdout",
     "output_type": "stream",
     "text": [
      " Trivia;Education: 100.0\n",
      " Puzzle;Action & Adventure: 18366666.666666668\n",
      " Lifestyle: 1412998.3449275363\n",
      " Art & Design;Creativity: 285000.0\n",
      " Role Playing;Brain Games: 10000000.0\n",
      " Business: 1704192.3399014778\n",
      " Casual;Pretend Play: 6957142.857142857\n",
      " Beauty: 513151.88679245283\n",
      " Educational;Pretend Play: 9375000.0\n",
      " Casual;Education: 1000000.0\n",
      " Comics;Creativity: 50000.0\n",
      " Entertainment;Creativity: 4000000.0\n",
      " Educational;Action & Adventure: 17016666.666666668\n",
      " Board;Brain Games: 407142.85714285716\n",
      " Role Playing;Action & Adventure: 7000000.0\n",
      " Simulation;Pretend Play: 550000.0\n",
      " Travel & Local;Action & Adventure: 100000.0\n",
      " Health & Fitness: 4167457.3602941176\n",
      " Puzzle: 8302861.91\n",
      " Racing;Action & Adventure: 8816666.666666666\n",
      " Simulation: 3475484.08839779\n",
      " Food & Drink: 1924897.7363636363\n",
      " Racing;Pretend Play: 1000000.0\n",
      " Libraries & Demo: 638503.734939759\n",
      " Parenting: 467977.5\n",
      " Education;Brain Games: 5333333.333333333\n",
      " Entertainment: 5602792.775092937\n",
      " Trivia: 3475712.7027027025\n",
      " Casual;Creativity: 5333333.333333333\n",
      " Role Playing;Pretend Play: 5275000.0\n",
      " Music: 9445583.333333334\n",
      " Art & Design: 2122850.9433962265\n",
      " Books & Reference: 8767811.894736841\n",
      " Tools;Education: 10000000.0\n",
      " Art & Design;Pretend Play: 500000.0\n",
      " Adventure: 4922785.333333333\n",
      " Casual;Music & Video: 10000000.0\n",
      " Action: 12603588.872727273\n",
      " Photography: 17840110.40229885\n",
      " Education;Music & Video: 2033333.3333333333\n",
      " Adventure;Action & Adventure: 35333333.333333336\n",
      " Entertainment;Education: 1000000.0\n",
      " Communication: 38326063.197916664\n",
      " Music;Music & Video: 5050000.0\n",
      " Education;Pretend Play: 1800000.0\n",
      " Educational;Education: 1737143.142857143\n",
      " Books & Reference;Education: 1000.0\n",
      " Events: 253542.22222222222\n",
      " Puzzle;Creativity: 750000.0\n",
      " Education;Education: 4759517.0\n",
      " Strategy;Education: 500000.0\n",
      " Shopping: 7036877.311557789\n",
      " Parenting;Music & Video: 1118333.3333333333\n",
      " Maps & Navigation: 4056941.7741935486\n",
      " Word: 9094458.695652174\n",
      " Health & Fitness;Education: 100000.0\n",
      " Racing: 15910645.681818182\n",
      " Adventure;Education: 10000000.0\n",
      " Communication;Creativity: 500000.0\n",
      " Card;Action & Adventure: 10000000.0\n",
      " House & Home: 1331540.5616438356\n",
      " Casual;Brain Games: 1425916.6666666667\n",
      " Sports: 4596842.615635179\n",
      " Video Players & Editors;Music & Video: 7500000.0\n",
      " Medical: 123064.7898089172\n",
      " Music & Audio;Music & Video: 500000.0\n",
      " Auto & Vehicles: 647317.8170731707\n",
      " Entertainment;Action & Adventure: 2333333.3333333335\n",
      " Puzzle;Brain Games: 9280666.666666666\n",
      " Arcade: 22779951.151515152\n",
      " Role Playing: 3965645.421686747\n",
      " Tools: 10802461.246995995\n",
      " Casual;Action & Adventure: 12916666.666666666\n",
      " Educational;Brain Games: 4433333.333333333\n",
      " Travel & Local: 14051476.145631067\n",
      " Art & Design;Action & Adventure: 100000.0\n",
      " Entertainment;Pretend Play: 3000000.0\n",
      " Card;Brain Games: 100000.0\n",
      " Board;Action & Adventure: 3000000.0\n",
      " Parenting;Education: 452857.14285714284\n",
      " Educational: 411184.8484848485\n",
      " Arcade;Pretend Play: 1000000.0\n",
      " Comics: 831873.1481481482\n",
      " Simulation;Education: 500.0\n",
      " Lifestyle;Education: 100000.0\n",
      " Personalization: 5218893.815699658\n",
      " Educational;Creativity: 2333333.3333333335\n",
      " Weather: 5074486.197183099\n",
      " Strategy: 11199902.530864198\n",
      " Arcade;Action & Adventure: 3190909.1818181816\n",
      " Dating: 854028.8303030303\n",
      " Productivity: 16772838.591304347\n",
      " Entertainment;Music & Video: 6413333.333333333\n",
      " Social: 23253652.127118643\n",
      " Education: 550185.4430379746\n",
      " News & Magazines: 9549178.467741935\n",
      " Video Players & Editors: 24790074.17721519\n",
      " Strategy;Action & Adventure: 1000000.0\n",
      " Simulation;Action & Adventure: 4857142.857142857\n",
      " Strategy;Creativity: 1000000.0\n",
      " Card: 3656884.6153846155\n",
      " Education;Action & Adventure: 1000000.0\n",
      " Sports;Action & Adventure: 5050000.0\n",
      " Action;Action & Adventure: 5888888.888888889\n",
      " Lifestyle;Pretend Play: 10000000.0\n",
      " Casual: 19630958.51612903\n",
      " Finance: 1387692.475609756\n",
      " Entertainment;Brain Games: 3314285.714285714\n",
      " Board: 4759209.117647059\n",
      " Casino: 3427910.5263157897\n",
      " Health & Fitness;Action & Adventure: 1000000.0\n",
      " Education;Creativity: 2875000.0\n",
      " Puzzle;Education: 100000.0\n",
      " Parenting;Brain Games: 1000000.0\n"
     ]
    }
   ],
   "source": [
    "genres_android=freq_table(free_android,-4)\n",
    "\n",
    "for genre in genres_android:\n",
    "    total=0\n",
    "    len_category=0\n",
    "    for app in free_android:\n",
    "        category_app=app[-4]\n",
    "        if category_app==genre:\n",
    "            \n",
    "        \n",
    "            n_installs=app[5]\n",
    "            n_installs=n_installs.replace('+','')\n",
    "            n_installs=float(n_installs.replace(',',''))\n",
    "            total+=n_installs\n",
    "            len_category+=1\n",
    "    print(\" {1}: {0}\".format((total/len_category),genre))  \n",
    "        \n"
   ]
  }
 ],
 "metadata": {
  "kernelspec": {
   "display_name": "Python 3",
   "language": "python",
   "name": "python3"
  },
  "language_info": {
   "codemirror_mode": {
    "name": "ipython",
    "version": 3
   },
   "file_extension": ".py",
   "mimetype": "text/x-python",
   "name": "python",
   "nbconvert_exporter": "python",
   "pygments_lexer": "ipython3",
   "version": "3.4.3"
  }
 },
 "nbformat": 4,
 "nbformat_minor": 2
}
